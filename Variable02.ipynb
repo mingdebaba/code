#Variable02
import tensorflow.compat.v1 as tf
tf.disable_eager_execution()

value = tf.Variable(0,name="value")
one = tf.constant(1)
new_value = tf.add(value,one)
update_value = tf.assign(value,new_value)

init = tf.global_variables_initializer()
with tf.Session() as sess:
    sess.run(init)
    for _ in range(10):
        sess.run(update_value)
        print(sess.run(value))