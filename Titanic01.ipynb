{
 "metadata": {
  "language_info": {
   "codemirror_mode": {
    "name": "ipython",
    "version": 3
   },
   "file_extension": ".py",
   "mimetype": "text/x-python",
   "name": "python",
   "nbconvert_exporter": "python",
   "pygments_lexer": "ipython3",
   "version": "3.7.9-final"
  },
  "orig_nbformat": 2,
  "kernelspec": {
   "name": "python3",
   "display_name": "Python 3"
  }
 },
 "nbformat": 4,
 "nbformat_minor": 2,
 "cells": [
  {
   "cell_type": "code",
   "execution_count": null,
   "metadata": {},
   "outputs": [],
   "source": [
    "import tensorflow as tf \n",
    "import urllib.request\n",
    "import matplotlib.pyplot as plt \n",
    "import os\n",
    "\n",
    "\n",
    "\n"
   ]
  },
  {
   "cell_type": "code",
   "execution_count": null,
   "metadata": {},
   "outputs": [],
   "source": [
    "#下载泰坦尼数据集\n",
    "data_url = \"http:biostat.mc.vanderbilt.edu/wiki/pub/Main/DataSets/titanic3.xls\"\n",
    "data_file_path = \"data/titanic3.xls\"\n",
    "\n",
    "if not os.path.isfile(data_file_path):\n",
    "    result=urllib.urlretrieve(data_url,data_file_path)\n",
    "    print('downloaded:',result)"
   ]
  },
  {
   "cell_type": "code",
   "execution_count": null,
   "metadata": {},
   "outputs": [],
   "source": [
    "#读取数据\n",
    "import numpy\n",
    "import pandas as pd \n",
    "df_data = pd.read_excel(data_file_path)"
   ]
  },
  {
   "cell_type": "code",
   "execution_count": null,
   "metadata": {},
   "outputs": [],
   "source": [
    "#筛选需要的字段\n",
    "selected_cols = ['survived','name','pclass','sex','age','sibsp','parch','fare','embarked']\n",
    "selected_df_data = df_data[selected_cols]"
   ]
  },
  {
   "cell_type": "code",
   "execution_count": null,
   "metadata": {},
   "outputs": [],
   "source": [
    "selected_df_data.isnull().any()"
   ]
  },
  {
   "cell_type": "code",
   "execution_count": null,
   "metadata": {},
   "outputs": [],
   "source": [
    "selected_df_data.isnull().sum()"
   ]
  },
  {
   "cell_type": "code",
   "execution_count": null,
   "metadata": {},
   "outputs": [],
   "source": [
    "selected_df_data[selected_df_data.isnull().values=True]"
   ]
  },
  {
   "cell_type": "code",
   "execution_count": null,
   "metadata": {},
   "outputs": [],
   "source": [
    "age_mean_value = selected_df_data['age'].mean()\n",
    "selected_df_data['age'] = selected_df_data['age'].fillna(age_mean_value)\n",
    "\n",
    "fare_mean_value = selected_df_data['fare'].mean()\n",
    "selected_df_data['fare'] = selected_df_data['fare'].fillna(fare_mean_value)\n",
    "\n",
    "selected_df_data['embarked'] = selected_df_data['embarked'].fillna('S')\n",
    "\n",
    "selected_df_data['sex'] = selected_df_data['sex'].map({'female':0,'male':1}).astype(int)\n",
    "\n",
    "selected_df_data['embarked'] = selected_df_data['embarked'].map({'C':0,'Q':1,'S':2}).astype(int)\n"
   ]
  },
  {
   "cell_type": "code",
   "execution_count": null,
   "metadata": {},
   "outputs": [],
   "source": [
    "#删除name\n",
    "selected_df_data = selected_df_data.drop(['name'],axis=1)"
   ]
  },
  {
   "cell_type": "code",
   "execution_count": null,
   "metadata": {},
   "outputs": [],
   "source": [
    "selected_df_data[:3]"
   ]
  },
  {
   "cell_type": "code",
   "execution_count": null,
   "metadata": {},
   "outputs": [],
   "source": [
    "#分离特征值和标签\n",
    "ndarray_data = selected_df_data.values\n",
    "features = ndarray_data[:,1:]\n",
    "label = ndarray_data[:,0]"
   ]
  },
  {
   "cell_type": "code",
   "execution_count": null,
   "metadata": {},
   "outputs": [],
   "source": [
    "#特征值标准处理化\n",
    "from sklearn import preprocessing\n",
    "minmax_scale = preprocessing.MinMaxScaler(feature_range=(0,1))\n",
    "norm_features = minmax_scale.fit_transform(features)\n"
   ]
  },
  {
   "cell_type": "code",
   "execution_count": null,
   "metadata": {},
   "outputs": [],
   "source": [
    "#定义数据预处理函数\n",
    "def prepare_data(df_data):\n",
    "    df=df_data.drop(['name'],axis=1)\n",
    "    age_mean = df['age'].mean()\n",
    "    df['age'] = df['age'].fillna(age_mean)\n",
    "    fare_mean = df['fare'].mean()\n",
    "    df['fare'] = df['fare'].fillna(fare_mean)\n",
    "    df['sex'] = df['sex'].map({'female':0,'male':1}).astype(int)\n",
    "    df['embarked'] = df['embarked'].fillna('S')\n",
    "    df['embarked'] = df['embarked'].map({'C':0,'Q':1,'S':2}).astype(int)\n",
    "\n",
    "    ndarray_data = df.values\n",
    "\n",
    "    features = ndarray_data[:,1:]\n",
    "    label = ndarray_data[:,0]\n",
    "\n",
    "    minmax_scale =preprocessing.MinMaxScaler(feature_range=(0,1))\n",
    "    norm_features=minmax_scale.fit_transform(features)"
   ]
  },
  {
   "cell_type": "code",
   "execution_count": null,
   "metadata": {},
   "outputs": [],
   "source": [
    "#数据打乱顺序，划分训练集\n",
    "shuffled_df_data = selected_df_data.sample(frac=1)\n",
    "\n",
    "x_data,y_data = prepare_data(shuffled_df_data)\n",
    "\n",
    "train_size = int(len(x_data)*0.8)\n",
    "\n",
    "x_train = x_data[:train_size]\n",
    "y_train = y_data[:train_size]\n",
    "\n",
    "x_test = x_data[train_size:]\n",
    "y_test  =y_data[train_size:]"
   ]
  },
  {
   "cell_type": "code",
   "execution_count": 2,
   "metadata": {},
   "outputs": [],
   "source": [
    "import tensorflow as tf\n",
    "#建立keras序列模型\n",
    "model = tf.keras.models.Sequential()"
   ]
  },
  {
   "cell_type": "code",
   "execution_count": null,
   "metadata": {},
   "outputs": [],
   "source": [
    "#加入第一层\n",
    "model.add(tf.keras.layers.Dense(\n",
    "                                units=64,\n",
    "                                input_dim=7,\n",
    "                                use_bias=True,\n",
    "                                kernel_initializer='uniform',\n",
    "                                bias_initializer='zero'\n",
    "                                activation='relu'\n",
    "))\n",
    "model.add(tf.keras.layers.Dense(units=32,\n",
    "                                activation='sigmoid'))\n",
    "model.add(tf.karas.layers.Dense(units=1,\n",
    "                                activation='sigmoid'))"
   ]
  },
  {
   "cell_type": "code",
   "execution_count": null,
   "metadata": {},
   "outputs": [],
   "source": [
    "#模型设置\n",
    "model.compile(optimizer=tf.keras.optimizers.Adam(0.003),loss='binary_crossentropy',metrics=['accuracy'])"
   ]
  },
  {
   "cell_type": "code",
   "execution_count": null,
   "metadata": {},
   "outputs": [],
   "source": [
    "#模型训练\n",
    "train_history = model.fit(x=x_train,\n",
    "                          y=y_ttain,\n",
    "                          validation_split=0.2,\n",
    "                          epochs=100,\n",
    "                          batch_size=40,\n",
    "                          verbose=2)"
   ]
  },
  {
   "cell_type": "code",
   "execution_count": null,
   "metadata": {},
   "outputs": [],
   "source": [
    "#训练过程可视化\n",
    "import matplotlib as plt\n",
    "\n",
    "def visu_train_history(train_history,train_metric,validation_metric):\n",
    "    plt.plot(train_history.history[train_metric])\n",
    "    plt.plot(train_history.history[validation_metric])\n",
    "    plt.title('Train History')\n",
    "    plt.ylabel('train_metric')\n",
    "    plt.xlabel('epoch')\n",
    "    plt.legend(['train','validation'],loc='upper left')\n",
    "    plt.show()"
   ]
  },
  {
   "cell_type": "code",
   "execution_count": null,
   "metadata": {},
   "outputs": [],
   "source": [
    "visu_train_history(train_history,'acc',val_acc)"
   ]
  },
  {
   "cell_type": "code",
   "execution_count": null,
   "metadata": {},
   "outputs": [],
   "source": [
    "visu_train_history(train_history,'loss',val_loss)"
   ]
  },
  {
   "cell_type": "code",
   "execution_count": null,
   "metadata": {},
   "outputs": [],
   "source": [
    "#模型评估\n",
    "evaluate_result = model.evaluate(x=x_test,y_y_test)"
   ]
  },
  {
   "cell_type": "code",
   "execution_count": null,
   "metadata": {},
   "outputs": [],
   "source": [
    "evaluate_result"
   ]
  },
  {
   "cell_type": "code",
   "execution_count": null,
   "metadata": {},
   "outputs": [],
   "source": [
    "#评估结果返回标签\n",
    "model.metrics_names"
   ]
  },
  {
   "cell_type": "code",
   "execution_count": null,
   "metadata": {},
   "outputs": [],
   "source": [
    "Jack_info = [0,'Jack','male',23,1,0,5.000,'S']\n",
    "Rose_info = [1,'Rose',1,'female',20,1,0,100.000,'S']\n",
    "new_passenger_pd=pd.DataFrame([Jack_info,Rose_info],columns=selected_cols)"
   ]
  },
  {
   "cell_type": "code",
   "execution_count": null,
   "metadata": {},
   "outputs": [],
   "source": [
    "all_passenger_pd = selected_df_data.append(new_passenger_pd)"
   ]
  },
  {
   "cell_type": "code",
   "execution_count": null,
   "metadata": {},
   "outputs": [],
   "source": [
    "all+passenger_pd[-3:]"
   ]
  },
  {
   "cell_type": "code",
   "execution_count": null,
   "metadata": {},
   "outputs": [],
   "source": [
    "x_features,y_label = prepare_data(all-passenger_pd)\n",
    "surv_probability = model.predict(x_features)\n",
    "surv_probability[:5]"
   ]
  },
  {
   "cell_type": "code",
   "execution_count": null,
   "metadata": {},
   "outputs": [],
   "source": [
    "all_passenger_pd.insert(len(all_passenger_pd.columns),'surv_probability',surv_probability)\n",
    "all_passenger_pd[-5:]"
   ]
  }
 ]
}